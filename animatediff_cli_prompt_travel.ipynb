{
  "nbformat": 4,
  "nbformat_minor": 0,
  "metadata": {
    "colab": {
      "provenance": [],
      "gpuType": "T4",
      "authorship_tag": "ABX9TyNyAsIBi8DEGCeKTAYkAeKA",
      "include_colab_link": true
    },
    "kernelspec": {
      "name": "python3",
      "display_name": "Python 3"
    },
    "language_info": {
      "name": "python"
    },
    "accelerator": "GPU"
  },
  "cells": [
    {
      "cell_type": "markdown",
      "metadata": {
        "id": "view-in-github",
        "colab_type": "text"
      },
      "source": [
        "<a href=\"https://colab.research.google.com/github/softmurata/Image2VideoML/blob/main/animatediff_cli_prompt_travel.ipynb\" target=\"_parent\"><img src=\"https://colab.research.google.com/assets/colab-badge.svg\" alt=\"Open In Colab\"/></a>"
      ]
    },
    {
      "cell_type": "markdown",
      "source": [
        "Installation"
      ],
      "metadata": {
        "id": "102Q1SOhlsHU"
      }
    },
    {
      "cell_type": "code",
      "execution_count": null,
      "metadata": {
        "id": "lpjO2rE0lbMZ"
      },
      "outputs": [],
      "source": [
        "!git clone https://github.com/s9roll7/animatediff-cli-prompt-travel\n",
        "%cd animatediff-cli-prompt-travel\n",
        "# pip install torch==2.1.1+cu118 torchvision==0.16.1+cu118 torchaudio==2.1.1+cu118 xformers --index-url https://download.pytorch.org/whl/cu118\n",
        "!pip install -e .\n",
        "!pip install onnxruntime-gpu\n",
        "!pip install pandas"
      ]
    },
    {
      "cell_type": "code",
      "source": [
        "# !wget https://huggingface.co/guoyww/animatediff/resolve/main/mm_sd_v15_v2.ckpt -P /content/animatediff-cli-prompt-travel/data/models/motion-module\n",
        "!wget https://civitai.com/api/download/models/108545 -O /content/animatediff-cli-prompt-travel/data/models/sd/mistoonAnime_v20.safetensors"
      ],
      "metadata": {
        "id": "YTyoExZbmUXc"
      },
      "execution_count": null,
      "outputs": []
    },
    {
      "cell_type": "code",
      "source": [
        "# config.json\n",
        "\"\"\"\n",
        "{\n",
        "    \"name\": \"sample\",\n",
        "    \"path\": \"models/sd/mistoonAnime_v20.safetensors\",\n",
        "    \"motion_module\": \"models/motion-module/mm_sd_v15_v2.ckpt\",\n",
        "    \"compile\": false,\n",
        "    \"seed\": [\n",
        "      22117744662200\n",
        "    ],\n",
        "    \"scheduler\": \"k_dpmpp_sde\",\n",
        "    \"steps\": 20,\n",
        "    \"guidance_scale\": 10,\n",
        "    \"clip_skip\": 2,\n",
        "    \"prompt_fixed_ratio\": 0.5,\n",
        "    \"head_prompt\": \"masterpiece, best quality, a beautiful and detailed portriat of 1girl, solo\",\n",
        "    \"prompt_map\": {\n",
        "      \"0\":  \"smile standing\",\n",
        "      \"32\":  \"walking\",\n",
        "      \"64\":  \"running\",\n",
        "      \"96\":  \"sitting\"\n",
        "    },\n",
        "    \"tail_prompt\": \"white plain t-shirt, blue denim\",\n",
        "    \"n_prompt\": [\n",
        "      \"(worst quality, low quality:1.4), (monochrome:1.2), sketch\"\n",
        "    ],\n",
        "    \"controlnet_map\": {\n",
        "      \"input_image_dir\" : \"controlnet_image/test\",\n",
        "      \"max_samples_on_vram\": 0,\n",
        "      \"max_models_on_vram\" : 0,\n",
        "      \"save_detectmap\": true,\n",
        "      \"preprocess_on_gpu\": true,\n",
        "      \"is_loop\": true,\n",
        "      \"controlnet_ref\": {\n",
        "        \"enable\": false,\n",
        "        \"ref_image\": \"ref_image/ref_sample.png\",\n",
        "        \"attention_auto_machine_weight\": 0.3,\n",
        "        \"gn_auto_machine_weight\": 0.3,\n",
        "        \"style_fidelity\": 0.5,\n",
        "        \"reference_attn\": true,\n",
        "        \"reference_adain\": false,\n",
        "        \"scale_pattern\":[1.0]\n",
        "      }\n",
        "    },\n",
        "    \"output\":{\n",
        "      \"format\" : \"gif\",\n",
        "      \"fps\" : 8,\n",
        "      \"encode_param\":{\n",
        "        \"crf\": 10\n",
        "      }\n",
        "    }\n",
        "  }\n",
        "\"\"\""
      ],
      "metadata": {
        "id": "eKLoTyEvoI_D"
      },
      "execution_count": null,
      "outputs": []
    },
    {
      "cell_type": "code",
      "source": [
        "# text2videoのsample\n",
        "%cd /content/animatediff-cli-prompt-travel/\n",
        "!animatediff generate -c config/prompts/config.json -W 256 -H 384 -L 128 -C 24"
      ],
      "metadata": {
        "id": "611zndTOnUx1"
      },
      "execution_count": null,
      "outputs": []
    },
    {
      "cell_type": "code",
      "source": [
        "# update_config.json\n",
        "\"\"\"\n",
        "{\n",
        "  \"name\": \"sample\",\n",
        "  \"path\": \"safetensors/mistoonAnime_v20.safetensors\",\n",
        "  \"motion_module\": \"models/motion-module/mm_sd_v15_v2.ckpt\",\n",
        "  \"compile\": false,\n",
        "  \"seed\": [\n",
        "    2211774462\n",
        "  ],\n",
        "  \"scheduler\": \"k_dpmpp_sde\",\n",
        "  \"steps\": 20,\n",
        "  \"guidance_scale\": 10,\n",
        "  \"clip_skip\": 1,\n",
        "  \"prompt_fixed_ratio\": 0.5,\n",
        "  \"head_prompt\": \"masterpiece, best quality, a beautiful girl, solo\",\n",
        "  \"prompt_map\": {\n",
        "    \"0\": \"smile, sitting\",\n",
        "    \"12\": \"close eyes, sitting\",\n",
        "    \"24\": \"open eyes, sitting\",\n",
        "    \"36\": \"smile, sitting\"\n",
        "  },\n",
        "  \"n_prompt\": [\n",
        "    \"(worst quality, low quality:1.4), (monochrome:1.2)\"\n",
        "  ],\n",
        "  \"output\":{\n",
        "    \"format\" : \"gif\",\n",
        "    \"fps\" : 8,\n",
        "    \"encode_param\":{\n",
        "      \"crf\": 10\n",
        "    }\n",
        "  },\n",
        "  \"lora_map\": {\n",
        "    \"lora/more_details.safetensors\" : 1.0\n",
        "  },\n",
        "  \"controlnet_map\": {\n",
        "    \"input_image_dir\" : \"controlnet_image/test\",\n",
        "    \"max_samples_on_vram\": 200,\n",
        "    \"max_models_on_vram\" : 3,\n",
        "    \"save_detectmap\": true,\n",
        "    \"preprocess_on_gpu\": true,\n",
        "    \"is_loop\": true,\n",
        "    \"controlnet_ref\": {\n",
        "        \"enable\": true,\n",
        "        \"ref_image\": \"ref_image/ref.png\",\n",
        "        \"attention_auto_machine_weight\": 0.3,\n",
        "        \"gn_auto_machine_weight\": 0.3,\n",
        "        \"style_fidelity\": 0.5,\n",
        "        \"reference_attn\": true,\n",
        "        \"reference_adain\": false,\n",
        "        \"scale_pattern\":[1.0]\n",
        "    }\n",
        "  }\n",
        "}\n",
        "\"\"\""
      ],
      "metadata": {
        "id": "D22IbT7vqhr0"
      },
      "execution_count": null,
      "outputs": []
    },
    {
      "cell_type": "code",
      "source": [
        "!wget https://cdn-ak.f.st-hatena.com/images/fotolife/t/touch-sp/20231009/20231009214509.jpg -O /content/animatediff-cli-prompt-travel/data/ref_image/ref.png"
      ],
      "metadata": {
        "id": "wAvbw4R2q5R3"
      },
      "execution_count": null,
      "outputs": []
    },
    {
      "cell_type": "code",
      "source": [
        "# text2videoのsample update\n",
        "# controlnet reference only usage -> https://github.com/s9roll7/animatediff-cli-prompt-travel/issues/129\n",
        "%cd /content/animatediff-cli-prompt-travel/\n",
        "!animatediff generate -c config/prompts/update_config.json -W 256 -H 384 -L 16"
      ],
      "metadata": {
        "id": "WupRXvSzqzBX"
      },
      "execution_count": null,
      "outputs": []
    },
    {
      "cell_type": "code",
      "source": [
        "from IPython.display import display, Image\n",
        "\n",
        "# 表示するGIF画像のパス\n",
        "gif_path = \"/content/animatediff-cli-prompt-travel/output/2023-12-21T04-58-31-sample-mistoonanime_v20/00_2211774462_masterpiece_best-quality_a-beautiful-girl_solo_smi.gif\"\n",
        "\n",
        "# GIF画像を表示\n",
        "with open(gif_path, \"rb\") as f:\n",
        "    display(Image(data=f.read(), format=\"png\"))"
      ],
      "metadata": {
        "id": "GqlvhchVxdim"
      },
      "execution_count": null,
      "outputs": []
    },
    {
      "cell_type": "markdown",
      "source": [
        "Stylize"
      ],
      "metadata": {
        "id": "Kr9eZhxkyOZr"
      }
    },
    {
      "cell_type": "code",
      "source": [
        "%cd /content/animatediff-cli-prompt-travel\n",
        "!pip install -e .[stylize]"
      ],
      "metadata": {
        "id": "tqFQBl7ryQFv"
      },
      "execution_count": null,
      "outputs": []
    },
    {
      "cell_type": "code",
      "source": [
        "!rm -rf /content/animatediff-cli-prompt-travel/stylize/*"
      ],
      "metadata": {
        "id": "gPeT-L4-6msA"
      },
      "execution_count": null,
      "outputs": []
    },
    {
      "cell_type": "code",
      "source": [
        "%cd /content/animatediff-cli-prompt-travel\n",
        "!animatediff stylize create-config --fps 8 /content/animatediff-cli-prompt-travel/output/2023-12-21T05-13-10-sample-mistoonanime_v20/00_2211774462_masterpiece_best-quality_a-beautiful-girl_solo_smi.mp4"
      ],
      "metadata": {
        "id": "rEaogiAMym_Q"
      },
      "execution_count": null,
      "outputs": []
    },
    {
      "cell_type": "code",
      "source": [
        "%cd /content/animatediff-cli-prompt-travel\n",
        "!animatediff stylize generate ./stylize/2023-12-21T05-50-07-sample-mistoonanime_v20 -L 128"
      ],
      "metadata": {
        "colab": {
          "base_uri": "https://localhost:8080/"
        },
        "id": "sBL4wrYsywMi",
        "outputId": "92b1ebe2-d939-4d28-d3fb-d07084762a6a"
      },
      "execution_count": null,
      "outputs": [
        {
          "output_type": "stream",
          "name": "stdout",
          "text": [
            "/content/animatediff-cli-prompt-travel\n",
            "2023-12-21 06:56:14.472043: E external/local_xla/xla/stream_executor/cuda/cuda_dnn.cc:9261] Unable to register cuDNN factory: Attempting to register factory for plugin cuDNN when one has already been registered\n",
            "2023-12-21 06:56:14.472166: E external/local_xla/xla/stream_executor/cuda/cuda_fft.cc:607] Unable to register cuFFT factory: Attempting to register factory for plugin cuFFT when one has already been registered\n",
            "2023-12-21 06:56:14.576992: E external/local_xla/xla/stream_executor/cuda/cuda_blas.cc:1515] Unable to register cuBLAS factory: Attempting to register factory for plugin cuBLAS when one has already been registered\n",
            "2023-12-21 06:56:16.998939: W tensorflow/compiler/tf2tensorrt/utils/py_utils.cc:38] TF-TRT Warning: Could not find TensorRT\n",
            "/usr/local/lib/python3.10/dist-packages/controlnet_aux/segment_anything/modeling/tiny_vit_sam.py:654: UserWarning: Overwriting tiny_vit_5m_224 in registry with controlnet_aux.segment_anything.modeling.tiny_vit_sam.tiny_vit_5m_224. This is because the name being registered conflicts with an existing name. Please check if this is not expected.\n",
            "  return register_model(fn_wrapper)\n",
            "/usr/local/lib/python3.10/dist-packages/controlnet_aux/segment_anything/modeling/tiny_vit_sam.py:654: UserWarning: Overwriting tiny_vit_11m_224 in registry with controlnet_aux.segment_anything.modeling.tiny_vit_sam.tiny_vit_11m_224. This is because the name being registered conflicts with an existing name. Please check if this is not expected.\n",
            "  return register_model(fn_wrapper)\n",
            "/usr/local/lib/python3.10/dist-packages/controlnet_aux/segment_anything/modeling/tiny_vit_sam.py:654: UserWarning: Overwriting tiny_vit_21m_224 in registry with controlnet_aux.segment_anything.modeling.tiny_vit_sam.tiny_vit_21m_224. This is because the name being registered conflicts with an existing name. Please check if this is not expected.\n",
            "  return register_model(fn_wrapper)\n",
            "/usr/local/lib/python3.10/dist-packages/controlnet_aux/segment_anything/modeling/tiny_vit_sam.py:654: UserWarning: Overwriting tiny_vit_21m_384 in registry with controlnet_aux.segment_anything.modeling.tiny_vit_sam.tiny_vit_21m_384. This is because the name being registered conflicts with an existing name. Please check if this is not expected.\n",
            "  return register_model(fn_wrapper)\n",
            "/usr/local/lib/python3.10/dist-packages/controlnet_aux/segment_anything/modeling/tiny_vit_sam.py:654: UserWarning: Overwriting tiny_vit_21m_512 in registry with controlnet_aux.segment_anything.modeling.tiny_vit_sam.tiny_vit_21m_512. This is because the name being registered conflicts with an existing name. Please check if this is not expected.\n",
            "  return register_model(fn_wrapper)\n",
            "diffuser_ver='0.23.0'\n",
            "Using generation config: stylize/2023-12-21T05-50-07-sample-mistoonanime_v20/prompt.json\n",
            "is_sdxl=False\n",
            "is_v2=True\n",
            "Using base model: runwayml/stable-diffusion-v1-5\n",
            "Will save outputs to ./stylize/2023-12-21T05-50-07-sample-mistoonanime_v20/2023-12-21T06-56-34-sample-mistoonanime_v20\n",
            "\u001b[2KPreprocessing images (controlnet_openpose)\u001b[35m   0%\u001b[0m \u001b[90m━━━━━━━━━━━━━━━\u001b[0m \u001b[32m0/16 \u001b[0m [ \u001b[33m0:00:01\u001b[0m < \u001b[36m-:--:--\u001b[0m , \u001b[31m? it/s\u001b[0m ]2023-12-21 06:56:35.279903642 [E:onnxruntime:Default, provider_bridge_ort.cc:1480 TryGetProviderInfo_CUDA] /onnxruntime_src/onnxruntime/core/session/provider_bridge_ort.cc:1193 onnxruntime::Provider& onnxruntime::ProviderLibrary::Get() [ONNXRuntimeError] : 1 : FAIL : Failed to load library libonnxruntime_providers_cuda.so with error: libcublasLt.so.11: cannot open shared object file: No such file or directory\n",
            "\n",
            "2023-12-21 06:56:35.279948272 [W:onnxruntime:Default, onnxruntime_pybind_state.cc:747 CreateExecutionProviderInstance] Failed to create CUDAExecutionProvider. Please reference https://onnxruntime.ai/docs/execution-providers/CUDA-ExecutionProvider.html#requirements to ensure all dependencies are met.\n",
            "\u001b[2KPreprocessing images (controlnet_openpose)\u001b[35m   0%\u001b[0m \u001b[90m━━━━━━━━━━━━━━━\u001b[0m \u001b[32m0/16 \u001b[0m [ \u001b[33m0:00:02\u001b[0m < \u001b[36m-:--:--\u001b[0m , \u001b[31m? it/s\u001b[0m ]2023-12-21 06:56:36.370627454 [E:onnxruntime:Default, provider_bridge_ort.cc:1480 TryGetProviderInfo_CUDA] /onnxruntime_src/onnxruntime/core/session/provider_bridge_ort.cc:1193 onnxruntime::Provider& onnxruntime::ProviderLibrary::Get() [ONNXRuntimeError] : 1 : FAIL : Failed to load library libonnxruntime_providers_cuda.so with error: libcublasLt.so.11: cannot open shared object file: No such file or directory\n",
            "\n",
            "2023-12-21 06:56:36.370656208 [W:onnxruntime:Default, onnxruntime_pybind_state.cc:747 CreateExecutionProviderInstance] Failed to create CUDAExecutionProvider. Please reference https://onnxruntime.ai/docs/execution-providers/CUDA-ExecutionProvider.html#requirements to ensure all dependencies are met.\n",
            "\u001b[2KPreprocessing images (controlnet_openpose)\u001b[35m 100%\u001b[0m \u001b[90m━━━━━━━━━━━━━━\u001b[0m \u001b[32m16/16 \u001b[0m [ \u001b[33m0:00:36\u001b[0m < \u001b[36m0:00:00\u001b[0m , \u001b[31m0 it/s\u001b[0m ]\n",
            "\u001b[2KSaving Preprocessed images (controlnet_openpose)\u001b[35m  88%\u001b[0m \u001b[91m━━━━━━\u001b[0m\u001b[90m╺\u001b[0m \u001b[32m14/16 \u001b[0m [ \u001b[33m0:00:00\u001b[0m < \u001b[36m0:00:01\u001b[0m , \u001b[31m43 it/s\u001b[0m ]\n",
            "\u001b[?25hChecking motion module...\n",
            "Loading tokenizer...\n",
            "Loading text encoder...\n",
            "Loading VAE...\n",
            "Loading UNet...\n",
            "Loaded 453.20928M-parameter motion module\n",
            "Using scheduler \"euler_a\" (EulerAncestralDiscreteScheduler)\n",
            "Loading weights from /content/animatediff-cli-prompt-travel/data/models/sd/mistoonAnime_v20.safetensors\n",
            "Merging weights into UNet...\n",
            "Creating AnimationPipeline...\n",
            "No TI embeddings found\n",
            "loading c='controlnet_openpose' model\n",
            "Sending pipeline to device \"cuda\"\n",
            "Selected data types: unet_dtype=torch.float16, tenc_dtype=torch.float16, vae_dtype=torch.float32\n",
            "Using channels_last memory format for UNet and VAE\n",
            "c='controlnet_openpose' / []\n",
            "Saving prompt config to output directory\n",
            "Initialization complete!\n",
            "Generating 1 animations\n",
            "Running generation 1 of 1\n",
            "Generation seed: 341774366206100\n",
            "len( region_condi_list )=1\n",
            "len( region_list )=1\n",
            "apply_lcm_lora=False\n",
            "controlnet_for_region=False\n",
            "multi_uncond_mode=False\n",
            "unet_batch_size=1\n",
            "prompt_encoder.get_condi_size()=2\n",
            "\u001b[2K\u001b[35m 100%\u001b[0m \u001b[90m━━━━━━━━━━━━━━━━━━━━━━━━━━━━━━━━━━━━━━━━━━━━━━━━━━━━━━━━\u001b[0m \u001b[32m25/25 \u001b[0m [ \u001b[33m0:01:40\u001b[0m < \u001b[36m0:00:00\u001b[0m , \u001b[31m0 it/s\u001b[0m ]\n",
            "\u001b[?25hGeneration complete, saving...\n",
            "Creating ffmpeg encoder...\n",
            "Encoding interpolated frames with ffmpeg...\n",
            "ffmpeg version 4.4.2-0ubuntu0.22.04.1 Copyright (c) 2000-2021 the FFmpeg developers\n",
            "  built with gcc 11 (Ubuntu 11.2.0-19ubuntu1)\n",
            "  configuration: --prefix=/usr --extra-version=0ubuntu0.22.04.1 --toolchain=hardened --libdir=/usr/lib/x86_64-linux-gnu --incdir=/usr/include/x86_64-linux-gnu --arch=amd64 --enable-gpl --disable-stripping --enable-gnutls --enable-ladspa --enable-libaom --enable-libass --enable-libbluray --enable-libbs2b --enable-libcaca --enable-libcdio --enable-libcodec2 --enable-libdav1d --enable-libflite --enable-libfontconfig --enable-libfreetype --enable-libfribidi --enable-libgme --enable-libgsm --enable-libjack --enable-libmp3lame --enable-libmysofa --enable-libopenjpeg --enable-libopenmpt --enable-libopus --enable-libpulse --enable-librabbitmq --enable-librubberband --enable-libshine --enable-libsnappy --enable-libsoxr --enable-libspeex --enable-libsrt --enable-libssh --enable-libtheora --enable-libtwolame --enable-libvidstab --enable-libvorbis --enable-libvpx --enable-libwebp --enable-libx265 --enable-libxml2 --enable-libxvid --enable-libzimg --enable-libzmq --enable-libzvbi --enable-lv2 --enable-omx --enable-openal --enable-opencl --enable-opengl --enable-sdl2 --enable-pocketsphinx --enable-librsvg --enable-libmfx --enable-libdc1394 --enable-libdrm --enable-libiec61883 --enable-chromaprint --enable-frei0r --enable-libx264 --enable-shared\n",
            "  libavutil      56. 70.100 / 56. 70.100\n",
            "  libavcodec     58.134.100 / 58.134.100\n",
            "  libavformat    58. 76.100 / 58. 76.100\n",
            "  libavdevice    58. 13.100 / 58. 13.100\n",
            "  libavfilter     7.110.100 /  7.110.100\n",
            "  libswscale      5.  9.100 /  5.  9.100\n",
            "  libswresample   3.  9.100 /  3.  9.100\n",
            "  libpostproc    55.  9.100 / 55.  9.100\n",
            "Input #0, image2, from '/content/animatediff-cli-prompt-travel/stylize/2023-12-21T05-50-07-sample-mistoonanime_v20/2023-12-21T06-56-34-sample-mistoonanime_v20/00-341774366206100/%08d.png':\n",
            "  Duration: 00:00:02.00, start: 0.000000, bitrate: N/A\n",
            "  Stream #0:0: Video: png, rgb24(pc), 512x768, 8 fps, 8 tbr, 8 tbn, 8 tbc\n",
            "Stream mapping:\n",
            "  Stream #0:0 (png) -> fps\n",
            "  fps -> Stream #0:0 (libx264)\n",
            "Press [q] to stop, [?] for help\n",
            "\u001b[1;36m[libx264 @ 0x587743b4c5c0] \u001b[0musing cpu capabilities: MMX2 SSE2Fast SSSE3 SSE4.2 AVX FMA3 BMI2 AVX2 AVX512\n",
            "\u001b[1;36m[libx264 @ 0x587743b4c5c0] \u001b[0mprofile High, level 3.1, 4:2:0, 8-bit\n",
            "\u001b[1;36m[libx264 @ 0x587743b4c5c0] \u001b[0m264 - core 163 r3060 5db6aa6 - H.264/MPEG-4 AVC codec - Copyleft 2003-2021 - http://www.videolan.org/x264.html - options: cabac=1 ref=6 deblock=1:1:1 analyse=0x3:0x113 me=hex subme=7 psy=1 psy_rd=0.40:0.00 mixed_ref=1 me_range=16 chroma_me=1 trellis=1 8x8dct=1 cqm=0 deadzone=21,11 fast_pskip=1 chroma_qp_offset=-2 threads=3 lookahead_threads=1 sliced_threads=0 nr=0 decimate=1 interlaced=0 bluray_compat=0 constrained_intra=0 bframes=5 b_pyramid=2 b_adapt=1 b_bias=0 direct=1 weightb=1 open_gop=0 weightp=2 keyint=250 keyint_min=8 scenecut=40 intra_refresh=0 rc_lookahead=40 rc=crf mbtree=1 crf=10.0 qcomp=0.60 qpmin=0 qpmax=69 qpstep=4 ip_ratio=1.40 aq=1:0.60\n",
            "Output #0, mp4, to '/content/animatediff-cli-prompt-travel/stylize/2023-12-21T05-50-07-sample-mistoonanime_v20/2023-12-21T06-56-34-sample-mistoonanime_v20/00_341774366206100_smile095_indoors076_grin042_looking_at_viewer092_m.mp4':\n",
            "  Metadata:\n",
            "    encoder         : Lavf58.76.100\n",
            "  Stream #0:0: Video: h264 (avc1 / 0x31637661), yuv420p(tv, progressive), 512x768, q=2-31, 8 fps, 16384 tbn\n",
            "    Metadata:\n",
            "      encoder         : Lavc58.134.100 libx264\n",
            "    Side data:\n",
            "      cpb: bitrate max/min/avg: 0/0/0 buffer size: 0 vbv_delay: N/A\n",
            "frame=   16 fps=0.0 q=-1.0 Lsize=     347kB time=00:00:01.62 bitrate=1750.8kbits/s speed=1.92x    \n",
            "video:346kB audio:0kB subtitle:0kB other streams:0kB global headers:0kB muxing overhead: 0.285370%\n",
            "\u001b[1;36m[libx264 @ 0x587743b4c5c0] \u001b[0mframe I:1     Avg QP: 6.17  size: 81291\n",
            "\u001b[1;36m[libx264 @ 0x587743b4c5c0] \u001b[0mframe P:3     Avg QP: 7.89  size: 35310\n",
            "\u001b[1;36m[libx264 @ 0x587743b4c5c0] \u001b[0mframe B:12    Avg QP: 9.30  size: 13893\n",
            "\u001b[1;36m[libx264 @ 0x587743b4c5c0] \u001b[0mconsecutive B-frames:  6.2%  0.0% 18.8%  0.0%  0.0% 75.0%\n",
            "\u001b[1;36m[libx264 @ 0x587743b4c5c0] \u001b[0mmb I  I16..4: 12.0% 58.9% 29.0%\n",
            "\u001b[1;36m[libx264 @ 0x587743b4c5c0] \u001b[0mmb P  I16..4:  5.7% 16.1%  4.4%  P16..4: 23.5% 26.4% 21.6%  0.0%  0.0%    skip: 2.2%\n",
            "\u001b[1;36m[libx264 @ 0x587743b4c5c0] \u001b[0mmb B  I16..4:  1.9%  3.0%  0.2%  B16..8: 34.6% 19.5%  7.2%  direct:16.0%  skip:17.6%  L0:51.0% L1:31.2% BI:17.8%\n",
            "\u001b[1;36m[libx264 @ 0x587743b4c5c0] \u001b[0m8x8 transform intra:59.6% inter:51.9%\n",
            "\u001b[1;36m[libx264 @ 0x587743b4c5c0] \u001b[0mcoded y,uvDC,uvAC intra: 77.7% 91.1% 90.7% inter: 43.7% 55.6% 30.0%\n",
            "\u001b[1;36m[libx264 @ 0x587743b4c5c0] \u001b[0mi16 v,h,dc,p: 43% 22%  8% 26%\n",
            "\u001b[1;36m[libx264 @ 0x587743b4c5c0] \u001b[0mi8 v,h,dc,ddl,ddr,vr,hd,vl,hu: 27% 20% 26%  4%  6%  5%  4%  5%  5%\n",
            "\u001b[1;36m[libx264 @ 0x587743b4c5c0] \u001b[0mi4 v,h,dc,ddl,ddr,vr,hd,vl,hu: 31% 16% 13%  5% 10% 10%  6%  6%  3%\n",
            "\u001b[1;36m[libx264 @ 0x587743b4c5c0] \u001b[0mi8c dc,h,v,p: 39% 23% 27% 12%\n",
            "\u001b[1;36m[libx264 @ 0x587743b4c5c0] \u001b[0mWeighted P-Frames: Y:0.0% UV:0.0%\n",
            "\u001b[1;36m[libx264 @ 0x587743b4c5c0] \u001b[0mref P L0: 59.1%  3.6% 25.4%  7.9%  3.2%  0.8%\n",
            "\u001b[1;36m[libx264 @ 0x587743b4c5c0] \u001b[0mref B L0: 71.5% 17.9%  8.6%  1.9%  0.0%\n",
            "\u001b[1;36m[libx264 @ 0x587743b4c5c0] \u001b[0mref B L1: 90.7%  9.3%\n",
            "\u001b[1;36m[libx264 @ 0x587743b4c5c0] \u001b[0mkb/s:1415.76\n",
            "Saved sample to stylize/2023-12-21T05-50-07-sample-mistoonanime_v20/2023-12-21T06-56-34-sample-mistoonanime_v20/00_341774366206100_smile095_indoors076_grin042_looking_at_viewer092_m\n",
            "Generation complete!\n",
            "Done, exiting...\n",
            "Intermediate files have been output to stylize/2023-12-21T05-50-07-sample-mistoonanime_v20/2023-12-21T06-56-22_00\n",
            "Using generation config: stylize/2023-12-21T05-50-07-sample-mistoonanime_v20/prompt_01.json\n",
            "is_sdxl=False\n",
            "is_v2=True\n",
            "Using base model: runwayml/stable-diffusion-v1-5\n",
            "Will save outputs to ./stylize/2023-12-21T05-50-07-sample-mistoonanime_v20/2023-12-21T07-00-47-sample-mistoonanime_v20\n",
            "\u001b[2KPreprocessing images (controlnet_tile)\u001b[35m  88%\u001b[0m \u001b[91m━━━━━━━━━━━━━━\u001b[0m\u001b[91m╸\u001b[0m\u001b[90m━━\u001b[0m \u001b[32m14/16 \u001b[0m [ \u001b[33m0:00:00\u001b[0m < \u001b[36m0:00:01\u001b[0m , \u001b[31m70 it/s\u001b[0m ]\n",
            "\u001b[2KSaving Preprocessed images (controlnet_tile)\u001b[35m 100%\u001b[0m \u001b[90m━━━━━━━━━━━━\u001b[0m \u001b[32m16/16 \u001b[0m [ \u001b[33m0:00:02\u001b[0m < \u001b[36m0:00:00\u001b[0m , \u001b[31m6 it/s\u001b[0m ]\n",
            "\u001b[?25hPipeline already loaded, skipping initialization\n",
            "loading c='controlnet_tile' model\n",
            "Pipeline already on the correct device, skipping device transfer\n",
            "c='controlnet_tile' / []\n",
            "Saving prompt config to output directory\n",
            "Initialization complete!\n",
            "Generating 1 animations\n",
            "Running generation 1 of 1\n",
            "Generation seed: 341774366206100\n",
            "len( region_condi_list )=1\n",
            "len( region_list )=1\n",
            "apply_lcm_lora=False\n",
            "controlnet_for_region=False\n",
            "multi_uncond_mode=False\n",
            "unet_batch_size=1\n",
            "prompt_encoder.get_condi_size()=2\n",
            "\u001b[2K\u001b[35m 100%\u001b[0m \u001b[90m━━━━━━━━━━━━━━━━━━━━━━━━━━━━━━━━━━━━━━━━━━━━━━━━━━━━━━━━\u001b[0m \u001b[32m75/75 \u001b[0m [ \u001b[33m0:06:57\u001b[0m < \u001b[36m0:00:00\u001b[0m , \u001b[31m0 it/s\u001b[0m ]\n",
            "\u001b[?25hGeneration complete, saving...\n",
            "Creating ffmpeg encoder...\n",
            "Encoding interpolated frames with ffmpeg...\n",
            "ffmpeg version 4.4.2-0ubuntu0.22.04.1 Copyright (c) 2000-2021 the FFmpeg developers\n",
            "  built with gcc 11 (Ubuntu 11.2.0-19ubuntu1)\n",
            "  configuration: --prefix=/usr --extra-version=0ubuntu0.22.04.1 --toolchain=hardened --libdir=/usr/lib/x86_64-linux-gnu --incdir=/usr/include/x86_64-linux-gnu --arch=amd64 --enable-gpl --disable-stripping --enable-gnutls --enable-ladspa --enable-libaom --enable-libass --enable-libbluray --enable-libbs2b --enable-libcaca --enable-libcdio --enable-libcodec2 --enable-libdav1d --enable-libflite --enable-libfontconfig --enable-libfreetype --enable-libfribidi --enable-libgme --enable-libgsm --enable-libjack --enable-libmp3lame --enable-libmysofa --enable-libopenjpeg --enable-libopenmpt --enable-libopus --enable-libpulse --enable-librabbitmq --enable-librubberband --enable-libshine --enable-libsnappy --enable-libsoxr --enable-libspeex --enable-libsrt --enable-libssh --enable-libtheora --enable-libtwolame --enable-libvidstab --enable-libvorbis --enable-libvpx --enable-libwebp --enable-libx265 --enable-libxml2 --enable-libxvid --enable-libzimg --enable-libzmq --enable-libzvbi --enable-lv2 --enable-omx --enable-openal --enable-opencl --enable-opengl --enable-sdl2 --enable-pocketsphinx --enable-librsvg --enable-libmfx --enable-libdc1394 --enable-libdrm --enable-libiec61883 --enable-chromaprint --enable-frei0r --enable-libx264 --enable-shared\n",
            "  libavutil      56. 70.100 / 56. 70.100\n",
            "  libavcodec     58.134.100 / 58.134.100\n",
            "  libavformat    58. 76.100 / 58. 76.100\n",
            "  libavdevice    58. 13.100 / 58. 13.100\n",
            "  libavfilter     7.110.100 /  7.110.100\n",
            "  libswscale      5.  9.100 /  5.  9.100\n",
            "  libswresample   3.  9.100 /  3.  9.100\n",
            "  libpostproc    55.  9.100 / 55.  9.100\n",
            "Input #0, image2, from '/content/animatediff-cli-prompt-travel/stylize/2023-12-21T05-50-07-sample-mistoonanime_v20/2023-12-21T07-00-47-sample-mistoonanime_v20/00-341774366206100/%08d.png':\n",
            "  Duration: 00:00:02.00, start: 0.000000, bitrate: N/A\n",
            "  Stream #0:0: Video: png, rgb24(pc), 768x1152, 8 fps, 8 tbr, 8 tbn, 8 tbc\n",
            "Stream mapping:\n",
            "  Stream #0:0 (png) -> fps\n",
            "  fps -> Stream #0:0 (libx264)\n",
            "Press [q] to stop, [?] for help\n",
            "\u001b[1;36m[libx264 @ 0x5d5005a0c180] \u001b[0musing cpu capabilities: MMX2 SSE2Fast SSSE3 SSE4.2 AVX FMA3 BMI2 AVX2 AVX512\n",
            "\u001b[1;36m[libx264 @ 0x5d5005a0c180] \u001b[0mprofile High, level 4.0, 4:2:0, 8-bit\n",
            "\u001b[1;36m[libx264 @ 0x5d5005a0c180] \u001b[0m264 - core 163 r3060 5db6aa6 - H.264/MPEG-4 AVC codec - Copyleft 2003-2021 - http://www.videolan.org/x264.html - options: cabac=1 ref=6 deblock=1:1:1 analyse=0x3:0x113 me=hex subme=7 psy=1 psy_rd=0.40:0.00 mixed_ref=1 me_range=16 chroma_me=1 trellis=1 8x8dct=1 cqm=0 deadzone=21,11 fast_pskip=1 chroma_qp_offset=-2 threads=3 lookahead_threads=1 sliced_threads=0 nr=0 decimate=1 interlaced=0 bluray_compat=0 constrained_intra=0 bframes=5 b_pyramid=2 b_adapt=1 b_bias=0 direct=1 weightb=1 open_gop=0 weightp=2 keyint=250 keyint_min=8 scenecut=40 intra_refresh=0 rc_lookahead=40 rc=crf mbtree=1 crf=10.0 qcomp=0.60 qpmin=0 qpmax=69 qpstep=4 ip_ratio=1.40 aq=1:0.60\n",
            "Output #0, mp4, to '/content/animatediff-cli-prompt-travel/stylize/2023-12-21T05-50-07-sample-mistoonanime_v20/2023-12-21T07-00-47-sample-mistoonanime_v20/00_341774366206100_smile095_indoors076_grin042_looking_at_viewer092_m.mp4':\n",
            "  Metadata:\n",
            "    encoder         : Lavf58.76.100\n",
            "  Stream #0:0: Video: h264 (avc1 / 0x31637661), yuv420p(tv, progressive), 768x1152, q=2-31, 8 fps, 16384 tbn\n",
            "    Metadata:\n",
            "      encoder         : Lavc58.134.100 libx264\n",
            "    Side data:\n",
            "      cpb: bitrate max/min/avg: 0/0/0 buffer size: 0 vbv_delay: N/A\n",
            "frame=   16 fps=7.3 q=-1.0 Lsize=    1534kB time=00:00:01.62 bitrate=7731.8kbits/s speed=0.737x    \n",
            "video:1533kB audio:0kB subtitle:0kB other streams:0kB global headers:0kB muxing overhead: 0.064795%\n",
            "\u001b[1;36m[libx264 @ 0x5d5005a0c180] \u001b[0mframe I:1     Avg QP: 6.64  size:270829\n",
            "\u001b[1;36m[libx264 @ 0x5d5005a0c180] \u001b[0mframe P:3     Avg QP: 8.30  size:153555\n",
            "\u001b[1;36m[libx264 @ 0x5d5005a0c180] \u001b[0mframe B:12    Avg QP: 9.65  size: 69781\n",
            "\u001b[1;36m[libx264 @ 0x5d5005a0c180] \u001b[0mconsecutive B-frames:  6.2%  0.0% 18.8%  0.0%  0.0% 75.0%\n",
            "\u001b[1;36m[libx264 @ 0x5d5005a0c180] \u001b[0mmb I  I16..4: 19.0% 57.1% 23.9%\n",
            "\u001b[1;36m[libx264 @ 0x5d5005a0c180] \u001b[0mmb P  I16..4:  8.9% 20.5%  3.2%  P16..4: 20.6% 23.9% 21.3%  0.0%  0.0%    skip: 1.5%\n",
            "\u001b[1;36m[libx264 @ 0x5d5005a0c180] \u001b[0mmb B  I16..4:  0.8%  3.9%  0.1%  B16..8: 23.0% 12.3%  9.3%  direct:24.4%  skip:26.3%  L0:38.4% L1:29.2% BI:32.4%\n",
            "\u001b[1;36m[libx264 @ 0x5d5005a0c180] \u001b[0m8x8 transform intra:64.6% inter:38.6%\n",
            "\u001b[1;36m[libx264 @ 0x5d5005a0c180] \u001b[0mcoded y,uvDC,uvAC intra: 98.0% 91.6% 90.7% inter: 59.4% 53.6% 28.6%\n",
            "\u001b[1;36m[libx264 @ 0x5d5005a0c180] \u001b[0mi16 v,h,dc,p:  8%  3% 39% 50%\n",
            "\u001b[1;36m[libx264 @ 0x5d5005a0c180] \u001b[0mi8 v,h,dc,ddl,ddr,vr,hd,vl,hu: 17% 11% 50%  3%  5%  4%  3%  4%  3%\n",
            "\u001b[1;36m[libx264 @ 0x5d5005a0c180] \u001b[0mi4 v,h,dc,ddl,ddr,vr,hd,vl,hu: 16% 11% 24%  6% 11% 10%  8%  9%  6%\n",
            "\u001b[1;36m[libx264 @ 0x5d5005a0c180] \u001b[0mi8c dc,h,v,p: 40% 19% 25% 15%\n",
            "\u001b[1;36m[libx264 @ 0x5d5005a0c180] \u001b[0mWeighted P-Frames: Y:0.0% UV:0.0%\n",
            "\u001b[1;36m[libx264 @ 0x5d5005a0c180] \u001b[0mref P L0: 66.7%  9.8%  6.8% 13.3%  0.4%  3.0%\n",
            "\u001b[1;36m[libx264 @ 0x5d5005a0c180] \u001b[0mref B L0: 87.7%  9.1%  2.4%  0.8%  0.1%\n",
            "\u001b[1;36m[libx264 @ 0x5d5005a0c180] \u001b[0mref B L1: 97.8%  2.2%\n",
            "\u001b[1;36m[libx264 @ 0x5d5005a0c180] \u001b[0mkb/s:6275.46\n",
            "Saved sample to stylize/2023-12-21T05-50-07-sample-mistoonanime_v20/2023-12-21T07-00-47-sample-mistoonanime_v20/00_341774366206100_smile095_indoors076_grin042_looking_at_viewer092_m\n",
            "Generation complete!\n",
            "Done, exiting...\n",
            "Stylized results are output to stylize/2023-12-21T05-50-07-sample-mistoonanime_v20/2023-12-21T06-56-22_01\n"
          ]
        }
      ]
    },
    {
      "cell_type": "code",
      "source": [
        "from IPython.display import HTML\n",
        "from base64 import b64encode\n",
        "\n",
        "mp4 = open('/content/animatediff-cli-prompt-travel/stylize/2023-12-21T05-50-07-sample-mistoonanime_v20/2023-12-21T06-56-22_01/00_341774366206100_smile095_indoors076_grin042_looking_at_viewer092_m.mp4', 'rb').read()\n",
        "data_url = 'data:video/mp4;base64,' + b64encode(mp4).decode()\n",
        "HTML(f\"\"\"\n",
        "<video width=\"100%\" height=\"100%\" controls>\n",
        "      <source src=\"{data_url}\" type=\"video/mp4\">\n",
        "</video>\"\"\")"
      ],
      "metadata": {
        "id": "szZ8KHWAKD47"
      },
      "execution_count": null,
      "outputs": []
    },
    {
      "cell_type": "markdown",
      "source": [
        "Stylize Mask"
      ],
      "metadata": {
        "id": "VoEfJ5vSJvVG"
      }
    },
    {
      "cell_type": "code",
      "source": [],
      "metadata": {
        "id": "gGbXk--KJxDq"
      },
      "execution_count": null,
      "outputs": []
    }
  ]
}