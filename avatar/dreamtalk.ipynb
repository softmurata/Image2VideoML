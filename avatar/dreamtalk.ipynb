{
  "nbformat": 4,
  "nbformat_minor": 0,
  "metadata": {
    "colab": {
      "provenance": [],
      "gpuType": "T4",
      "authorship_tag": "ABX9TyO0MoclVnxt194ja8G/TQKI",
      "include_colab_link": true
    },
    "kernelspec": {
      "name": "python3",
      "display_name": "Python 3"
    },
    "language_info": {
      "name": "python"
    },
    "accelerator": "GPU"
  },
  "cells": [
    {
      "cell_type": "markdown",
      "metadata": {
        "id": "view-in-github",
        "colab_type": "text"
      },
      "source": [
        "<a href=\"https://colab.research.google.com/github/softmurata/Image2VideoML/blob/main/avatar/dreamtalk.ipynb\" target=\"_parent\"><img src=\"https://colab.research.google.com/assets/colab-badge.svg\" alt=\"Open In Colab\"/></a>"
      ]
    },
    {
      "cell_type": "code",
      "execution_count": null,
      "metadata": {
        "id": "P99-dJ9gkGPd"
      },
      "outputs": [],
      "source": [
        "%cd /content\n",
        "!git clone -b dev https://github.com/camenduru/dreamtalk\n",
        "%cd /content/dreamtalk\n",
        "\n",
        "!wget https://huggingface.co/camenduru/dreamtalk/resolve/main/damo/dreamtalk/checkpoints/denoising_network.pth -O /content/dreamtalk/checkpoints/denoising_network.pth\n",
        "!wget https://huggingface.co/camenduru/dreamtalk/resolve/main/damo/dreamtalk/checkpoints/renderer.pt -O /content/dreamtalk/checkpoints/renderer.pt\n",
        "\n",
        "!pip install -q yacs av"
      ]
    },
    {
      "cell_type": "code",
      "source": [
        "%cd /content/dreamtalk\n",
        "!python inference_for_demo_video.py \\\n",
        "--wav_path data/audio/acknowledgement_english.m4a \\\n",
        "--style_clip_path data/style_clip/3DMM/M030_front_neutral_level1_001.mat \\\n",
        "--pose_path data/pose/RichardShelby_front_neutral_level1_001.mat \\\n",
        "--image_path data/src_img/uncropped/face3.png \\\n",
        "--cfg_scale 1.0 \\\n",
        "--max_gen_len 30 \\\n",
        "--output_name acknowledgement_english@M030_front_neutral_level1_001@male_face"
      ],
      "metadata": {
        "id": "axuVMkfpkWNZ"
      },
      "execution_count": null,
      "outputs": []
    },
    {
      "cell_type": "code",
      "source": [
        "from IPython.display import HTML\n",
        "from base64 import b64encode\n",
        "\n",
        "mp4 = open('/content/dreamtalk/output_video/acknowledgement_english@M030_front_neutral_level1_001@male_face.mp4', 'rb').read()\n",
        "data_url = 'data:video/mp4;base64,' + b64encode(mp4).decode()\n",
        "HTML(f\"\"\"\n",
        "<video width=\"100%\" height=\"100%\" controls>\n",
        "      <source src=\"{data_url}\" type=\"video/mp4\">\n",
        "</video>\"\"\")"
      ],
      "metadata": {
        "id": "yhzSEGYOk3XD"
      },
      "execution_count": null,
      "outputs": []
    }
  ]
}